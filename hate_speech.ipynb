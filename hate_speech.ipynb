{
 "cells": [
  {
   "cell_type": "code",
   "execution_count": 1,
   "metadata": {},
   "outputs": [],
   "source": [
    "# Importing libraries\n",
    "import nltk\n",
    "import pandas\n",
    "import numpy\n",
    "import string\n",
    "import re\n",
    "from nltk.stem import PorterStemmer\n",
    "from sklearn.feature_extraction.text import TfidfVectorizer\n",
    "from sklearn.svm import SVC\n",
    "from sklearn.metrics import f1_score\n",
    "from sklearn.model_selection import train_test_split\n",
    "from sklearn.linear_model import LogisticRegression\n",
    "from sklearn.metrics import accuracy_score"
   ]
  },
  {
   "cell_type": "code",
   "execution_count": 2,
   "metadata": {},
   "outputs": [],
   "source": [
    "# Reading the train data set\n",
    "data_set = pandas.read_csv(\"hate_speech_train.csv\") \n",
    "text = data_set.iloc[:,0]\n",
    "labels = data_set.iloc[:,1]"
   ]
  },
  {
   "cell_type": "code",
   "execution_count": 3,
   "metadata": {},
   "outputs": [],
   "source": [
    "# Reading the test data set\n",
    "test_ds = pandas.read_csv(\"hate_speech_test.csv\") \n",
    "test_text = test_ds.iloc[:,0]"
   ]
  },
  {
   "cell_type": "code",
   "execution_count": 4,
   "metadata": {},
   "outputs": [],
   "source": [
    "# Exploring the data set\n",
    "\n",
    "# print(\"data set shape :\",data_set.shape)\n",
    "# print(\"data set columns :\",list(data_set.columns))\n",
    "\n",
    "# Checking if data set has null values\n",
    "# print(data_set.isnull().sum())\n",
    "\n",
    "# filt_0 = (data_set['labels'] == 0)\n",
    "# print(filt_0)\n",
    "# print(\"no. of label 0 rows \",data_set.loc[filt_0].shape[0])\n",
    "\n",
    "# filt_1 = (data_set['labels'] == 1)\n",
    "# print(filt_1)\n",
    "# print(\"no. of label 1 rows \",data_set.loc[filt_1].shape[0])\n",
    "\n",
    "# Printing the data set\n",
    "# data_set.head()"
   ]
  },
  {
   "cell_type": "code",
   "execution_count": 5,
   "metadata": {},
   "outputs": [],
   "source": [
    "# string.punctuation"
   ]
  },
  {
   "cell_type": "code",
   "execution_count": 6,
   "metadata": {},
   "outputs": [],
   "source": [
    "def remove_punct(txt):\n",
    "    no_punct_txt = []\n",
    "    for lv in txt:\n",
    "        if(lv not in string.punctuation):\n",
    "            no_punct_txt.append(lv)\n",
    "    return \"\".join(no_punct_txt)\n",
    "\n",
    "data_set['no_punct_txt'] = data_set['text'].apply(lambda x : remove_punct(x))\n",
    "# print(data_set.shape)\n",
    "# print(data_set.head())\n",
    "test_ds['no_punct_txt'] = test_ds['text'].apply(lambda x : remove_punct(x))"
   ]
  },
  {
   "cell_type": "code",
   "execution_count": 7,
   "metadata": {},
   "outputs": [],
   "source": [
    "def tokenize(txt):\n",
    "    tokens = re.split('\\W+',txt)\n",
    "    return tokens\n",
    "\n",
    "data_set['tokenized_txt'] = data_set['no_punct_txt'].apply(lambda x: tokenize(x.lower()))\n",
    "# print(data_set.head())\n",
    "test_ds['tokenized_txt'] = test_ds['no_punct_txt'].apply(lambda x: tokenize(x.lower()))"
   ]
  },
  {
   "cell_type": "code",
   "execution_count": 8,
   "metadata": {},
   "outputs": [],
   "source": [
    "stop_words = nltk.corpus.stopwords.words('english')\n",
    "# print(stop_words[:179])"
   ]
  },
  {
   "cell_type": "code",
   "execution_count": 9,
   "metadata": {},
   "outputs": [],
   "source": [
    "def remove_stpwrds(txt):\n",
    "    no_stpwrds = []\n",
    "    for lv in txt:\n",
    "        if lv not in stop_words:\n",
    "            no_stpwrds.append(lv)\n",
    "    return no_stpwrds\n",
    "\n",
    "data_set['no_stop_words'] = data_set['tokenized_txt'].apply(lambda x: remove_stpwrds(x))\n",
    "# print(data_set.head())\n",
    "test_ds['no_stop_words'] = test_ds['tokenized_txt'].apply(lambda x: remove_stpwrds(x))"
   ]
  },
  {
   "cell_type": "code",
   "execution_count": 10,
   "metadata": {},
   "outputs": [],
   "source": [
    "ps = PorterStemmer()\n",
    "def stemming(txt):\n",
    "    stem_txt = []\n",
    "    for lv in txt:\n",
    "        stem_txt.append(ps.stem(lv))\n",
    "    return stem_txt\n",
    "\n",
    "data_set['stem_txt'] = data_set['no_stop_words'].apply(lambda x: stemming(x))\n",
    "# print(data_set.head())\n",
    "test_ds['stem_txt'] = test_ds['no_stop_words'].apply(lambda x: stemming(x))"
   ]
  },
  {
   "cell_type": "code",
   "execution_count": 11,
   "metadata": {},
   "outputs": [],
   "source": [
    "wn = nltk.WordNetLemmatizer()"
   ]
  },
  {
   "cell_type": "code",
   "execution_count": 12,
   "metadata": {},
   "outputs": [],
   "source": [
    "def lemmatization(txt):\n",
    "    lemmatized_txt = []\n",
    "    for lv in txt:\n",
    "         lemmatized_txt.append(wn.lemmatize(lv))\n",
    "    return lemmatized_txt\n",
    "\n",
    "data_set['lemmatized_txt'] = data_set['no_stop_words'].apply(lambda x: lemmatization(x))\n",
    "# print(data_set.head())\n",
    "test_ds['lemmatized_txt'] = test_ds['no_stop_words'].apply(lambda x: lemmatization(x))"
   ]
  },
  {
   "cell_type": "code",
   "execution_count": 13,
   "metadata": {},
   "outputs": [
    {
     "name": "stdout",
     "output_type": "stream",
     "text": [
      "0       [realdonaldtrump, one, worst, time, american, ...\n",
      "1       [crowd, oval, today, ausvind, hold, balidan, b...\n",
      "2       [skroskz, shossy2, joebiden, biden, amp, son, ...\n",
      "3       [etsi, shop, benedict, donald, call, presid, t...\n",
      "4       [realdonaldtrump, good, build, wall, around, a...\n",
      "                              ...                        \n",
      "5261    [icc, allow, ms, dhoni, keep, glove, attach, i...\n",
      "5262    [trump, avoid, movi, pirat, cours, illeg, down...\n",
      "5263    [notic, recent, jami, oliv, restaur, closingi,...\n",
      "5264    [teamindia, gear, okay, what, glove, arm, forc...\n",
      "5265    [piec, paper, mccarthi, use, waiv, around, lis...\n",
      "Name: stem_txt, Length: 5266, dtype: object\n",
      "0                   [assang, rapist, httpstcom4sfw7csxc]\n",
      "1      [gandinaaliabus, mp, say, cut, throat, muslim,...\n",
      "2      [candl, light, silent, protest, mysor, mysor, ...\n",
      "3      [shameonicc, 1, icc, dhoni, glove, vs, 2icc, p...\n",
      "4      [icc, look, pak, teamwht, go, onnw, appropriat...\n",
      "                             ...                        \n",
      "581    [imafraud, believ, much, religi, belief, u, fo...\n",
      "582    [doctorsstrik, call, aiim, 48hour, ultimatum, ...\n",
      "583    [realdonaldtrump, someon, doesnt, accept, lie,...\n",
      "584    [sumitkadei, icc, boycott, icc, world, cup, 20...\n",
      "585           [dancrenshawtx, chuch, schumer, douchebag]\n",
      "Name: stem_txt, Length: 586, dtype: object\n"
     ]
    }
   ],
   "source": [
    "tmp2 = data_set.iloc[:,5]\n",
    "tmp3 = test_ds.iloc[:,4]\n",
    "print(tmp2)\n",
    "print(tmp3)"
   ]
  },
  {
   "cell_type": "code",
   "execution_count": 704,
   "metadata": {},
   "outputs": [
    {
     "name": "stdout",
     "output_type": "stream",
     "text": [
      "                                                text  \\\n",
      "0  #Assange is not a #rapist  https://t.co/M4sfW7...   \n",
      "1  #GandiNaaliAbuse | Where an MP says that he wi...   \n",
      "2  Candle light silent protest in MYSORE, by Myso...   \n",
      "3  #ShameOnICC  1. ICC on Dhoni's gloves         ...   \n",
      "4  #ICC ...look at pak team...wht is going on.......   \n",
      "\n",
      "                                        no_punct_txt  \\\n",
      "0        Assange is not a rapist  httpstcoM4sfW7csXC   \n",
      "1  GandiNaaliAbuse  Where an MP says that he will...   \n",
      "2  Candle light silent protest in MYSORE by Mysor...   \n",
      "3  ShameOnICC  1 ICC on Dhonis gloves            ...   \n",
      "4  ICC look at pak teamwht is going onnw this is ...   \n",
      "\n",
      "                                       tokenized_txt  \\\n",
      "0  [assange, is, not, a, rapist, httpstcom4sfw7csxc]   \n",
      "1  [gandinaaliabuse, where, an, mp, says, that, h...   \n",
      "2  [candle, light, silent, protest, in, mysore, b...   \n",
      "3  [shameonicc, 1, icc, on, dhonis, gloves, vs, 2...   \n",
      "4  [icc, look, at, pak, teamwht, is, going, onnw,...   \n",
      "\n",
      "                                       no_stop_words  \\\n",
      "0              [assange, rapist, httpstcom4sfw7csxc]   \n",
      "1  [gandinaaliabuse, mp, says, cut, throat, musli...   \n",
      "2  [candle, light, silent, protest, mysore, mysor...   \n",
      "3  [shameonicc, 1, icc, dhonis, gloves, vs, 2icc,...   \n",
      "4  [icc, look, pak, teamwht, going, onnw, appropr...   \n",
      "\n",
      "                                            stem_txt  \\\n",
      "0               [assang, rapist, httpstcom4sfw7csxc]   \n",
      "1  [gandinaaliabus, mp, say, cut, throat, muslim,...   \n",
      "2  [candl, light, silent, protest, mysor, mysor, ...   \n",
      "3  [shameonicc, 1, icc, dhoni, glove, vs, 2icc, p...   \n",
      "4  [icc, look, pak, teamwht, go, onnw, appropriat...   \n",
      "\n",
      "                                      lemmatized_txt  \n",
      "0              [assange, rapist, httpstcom4sfw7csxc]  \n",
      "1  [gandinaaliabuse, mp, say, cut, throat, muslim...  \n",
      "2  [candle, light, silent, protest, mysore, mysor...  \n",
      "3  [shameonicc, 1, icc, dhonis, glove, v, 2icc, p...  \n",
      "4  [icc, look, pak, teamwht, going, onnw, appropr...  \n",
      "0                 [assang, rapist, httpstcom4sfw7csxc]\n",
      "1    [gandinaaliabus, mp, say, cut, throat, muslim,...\n",
      "2    [candl, light, silent, protest, mysor, mysor, ...\n",
      "3    [shameonicc, 1, icc, dhoni, glove, vs, 2icc, p...\n",
      "4    [icc, look, pak, teamwht, go, onnw, appropriat...\n",
      "Name: stem_txt, dtype: object\n",
      "(5266, 16253)\n",
      "(586, 16253)\n"
     ]
    }
   ],
   "source": [
    "print(test_ds.head())\n",
    "# tmp1 = data_set.iloc[:,0]\n",
    "tmp2 = data_set.iloc[:,5]\n",
    "tmp3 = test_ds.iloc[:,4]\n",
    "print(tmp3.head())\n",
    "value1=[' '.join([word for word in row]) for row in tmp2]\n",
    "value2=[' '.join([word for word in row]) for row in tmp3]\n",
    "vectorizer = TfidfVectorizer().fit(value1)\n",
    "vectorized_ds = vectorizer.transform(value1)\n",
    "# print(type(vectorized_ds))\n",
    "# print(vectorized_ds)\n",
    "vectorized_ts = vectorizer.transform(value2)\n",
    "print(vectorized_ds.shape)\n",
    "print(vectorized_ts.shape)"
   ]
  },
  {
   "cell_type": "code",
   "execution_count": 705,
   "metadata": {},
   "outputs": [],
   "source": [
    "# Splitting\n",
    "train_text, validate_text, train_labels, validate_labels = train_test_split(vectorized_ds, labels, test_size=0.3, random_state=42)\n",
    "# print(type(train_text))\n",
    "# print(type(validate_text))\n",
    "# print(type(train_labels))\n",
    "# print(type(validate_labels))"
   ]
  },
  {
   "cell_type": "code",
   "execution_count": 706,
   "metadata": {},
   "outputs": [
    {
     "data": {
      "text/plain": [
       "0.660759493670886"
      ]
     },
     "execution_count": 706,
     "metadata": {},
     "output_type": "execute_result"
    }
   ],
   "source": [
    "# Svm classifier\n",
    "svclassifier = SVC(kernel = 'linear' , C = 1.0)\n",
    "\n",
    "svclassifier.fit(train_text, train_labels)\n",
    "\n",
    "pred_labels = svclassifier.predict(validate_text)\n",
    "# f1_score(validate_labels, pred_labels, average='macro')\n",
    "f1_score(validate_labels, pred_labels, average='micro')\n",
    "# f1_score(validate_labels, pred_labels, average='weighted')\n",
    "# f1_score(validate_labels, pred_labels, average=None)"
   ]
  },
  {
   "cell_type": "code",
   "execution_count": 707,
   "metadata": {},
   "outputs": [],
   "source": [
    "# accuracy = metrics.accuracy_score(validate_labels, pred_labels)\n",
    "# print(\"accuracy\",accuracy)"
   ]
  },
  {
   "cell_type": "code",
   "execution_count": 708,
   "metadata": {},
   "outputs": [
    {
     "name": "stdout",
     "output_type": "stream",
     "text": [
      "(3686, 16253)\n",
      "<class 'scipy.sparse.csr.csr_matrix'>\n",
      "(3686,)\n",
      "<class 'pandas.core.series.Series'>\n",
      "(1580,)\n",
      "<class 'scipy.sparse.csr.csr_matrix'>\n",
      "(1580, 16253)\n",
      "<class 'pandas.core.series.Series'>\n",
      "<class 'numpy.ndarray'>\n",
      "f1 score: 0.7658089838639337\n",
      "accuracy :  0.660126582278481\n"
     ]
    }
   ],
   "source": [
    "# Logistic regression \n",
    "classifier = LogisticRegression(random_state = 0) \n",
    "\n",
    "print(train_text.shape)\n",
    "print(type(train_text))\n",
    "print(train_labels.shape)\n",
    "print(type(train_labels))\n",
    "print(validate_labels.shape)\n",
    "print(type(validate_text))\n",
    "print(validate_text.shape)\n",
    "print(type(validate_labels))\n",
    "\n",
    "classifier.fit(train_text, train_labels) \n",
    "pred_labels = classifier.predict(validate_text)\n",
    "print(type(pred_labels))\n",
    "print(\"f1 score:\", f1_score(validate_labels, pred_labels))\n",
    "print (\"accuracy : \", accuracy_score(validate_labels, pred_labels))"
   ]
  },
  {
   "cell_type": "code",
   "execution_count": 709,
   "metadata": {},
   "outputs": [],
   "source": [
    "# Logistic regression on test data\n",
    "# print(vectorized_ds.shape)\n",
    "# print(type(vectorized_ds))\n",
    "# print(labels.shape)\n",
    "# print(type(labels))\n",
    "# print(vectorized_ts.shape)\n",
    "# print(type(vectorized_ts))\n",
    "classifier = LogisticRegression(random_state = 0) \n",
    "classifier.fit(vectorized_ds, labels) \n",
    "pred_labels = classifier.predict(vectorized_ts) \n",
    "# print(type(pred_labels))\n",
    "# print(pred_labels.shape)\n",
    "# print(pred_labels)\n",
    "# pred_labels = list(pred_labels)\n",
    "# print(type(pred_labels))"
   ]
  },
  {
   "cell_type": "code",
   "execution_count": 710,
   "metadata": {},
   "outputs": [],
   "source": [
    "numpy.savetxt(\"submission.csv\",pred_labels,header='labels',fmt='%d',comments='')"
   ]
  }
 ],
 "metadata": {
  "kernelspec": {
   "display_name": "Python 3",
   "language": "python",
   "name": "python3"
  },
  "language_info": {
   "codemirror_mode": {
    "name": "ipython",
    "version": 3
   },
   "file_extension": ".py",
   "mimetype": "text/x-python",
   "name": "python",
   "nbconvert_exporter": "python",
   "pygments_lexer": "ipython3",
   "version": "3.6.9"
  }
 },
 "nbformat": 4,
 "nbformat_minor": 2
}
